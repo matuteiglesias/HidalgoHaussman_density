{
 "cells": [
  {
   "cell_type": "code",
   "execution_count": null,
   "metadata": {
    "collapsed": true
   },
   "outputs": [],
   "source": [
    "def makeCP_matrix(rawdata, year):\n",
    "#country product matrix from SITC data     \n",
    "    data = rawdata[rawdata['year']==year]\n",
    "\n",
    "    data = data[data['export_value']!=0]\n",
    "\n",
    "    data = data.sort(['country_name', 'product_name'])\n",
    "    df = data.to_dataframe()\n",
    "    df = df.pivot_table(index = 'country_name', columns = 'product_code', values = 'export_value' )\n",
    "    df = df.fillna(0)\n",
    "   \n",
    "    #print df\n",
    "    \n",
    "    B = df.values\n",
    "\n",
    "    prod_names = data['product_name', 'product_code'].unique().sort('product_code')['product_name']\n",
    "    country_names = data['country_name'].unique().sort()\n",
    "   \n",
    "    return B, prod_names, country_names\n",
    "\n",
    "\n",
    "\n",
    "def exp_makePMImat(mat, binary=False):\n",
    "      \n",
    "    B = mat\n",
    "       \n",
    "    if binary == True:\n",
    "        RCAmat = takeRCA(B)\n",
    "\n",
    "        BINmat = binarizeRCA(RCAmat, 1)\n",
    "        B = np.array(BINmat, dtype = float)\n",
    "    \n",
    "    #total sum, column sum, row sum \n",
    "    totalpop = np.sum(B)\n",
    "    \n",
    "    #distributions \n",
    "    prod_dist = np.sum(B,0) / totalpop\n",
    "    contry_dist = np.sum(B,1) / totalpop \n",
    "    prod_dists_c = B / MSA_counts[:,np.newaxis]\n",
    "    \n",
    "    #pij\n",
    "    numerator = np.dot(prod_dists_c.T,B) / totalpop\n",
    "\n",
    "    #pipj\n",
    "    denominator = np.outer(prod_dist,prod_dist)\n",
    "    \n",
    "    #PMImat avoiding multiplication of small nrs \n",
    "    PMImat = np.ma.log2(numerator) - np.ma.log2(denominator)   #avoid masks... just fix that denominator can never be 0 \n",
    "    \n",
    "    return PMImat"
   ]
  }
 ],
 "metadata": {
  "kernelspec": {
   "display_name": "Python 2",
   "language": "python",
   "name": "python2"
  },
  "language_info": {
   "codemirror_mode": {
    "name": "ipython",
    "version": 2
   },
   "file_extension": ".py",
   "mimetype": "text/x-python",
   "name": "python",
   "nbconvert_exporter": "python",
   "pygments_lexer": "ipython2",
   "version": "2.7.13"
  }
 },
 "nbformat": 4,
 "nbformat_minor": 2
}
